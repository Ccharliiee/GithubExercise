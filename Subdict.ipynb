{
 "cells": [
  {
   "cell_type": "code",
   "execution_count": 11,
   "metadata": {},
   "outputs": [],
   "source": [
    "import collections\n",
    "import sys"
   ]
  },
  {
   "cell_type": "code",
   "execution_count": 3,
   "metadata": {},
   "outputs": [
    {
     "name": "stdout",
     "output_type": "stream",
     "text": [
      "letter_positions:  defaultdict(<class 'list'>, {'a': [0], 'b': [1], 'p': [2, 3, 4], 'l': [5], 'e': [6, 7]})\n",
      "kangaroo\n",
      "k\n",
      "kangaroo -brk\n",
      "apple\n",
      "a\n",
      "possible_positions:  [0]\n",
      "p\n",
      "possible_positions:  [2, 3, 4]\n",
      "p\n",
      "possible_positions:  [3, 4]\n",
      "l\n",
      "possible_positions:  [5]\n",
      "e\n",
      "possible_positions:  [6, 7]\n",
      "apple\n",
      "subdict:  apple\n"
     ]
    }
   ],
   "source": [
    "def find_longest_word_in_string(letters, words):\n",
    "    letter_positions = collections.defaultdict(list)\n",
    "    # For each letter in 'letters', collect all the indices at which it appears.\n",
    "    # O(#letters) space and speed.\n",
    "    for index, letter in enumerate(letters):\n",
    "        letter_positions[letter].append(index)\n",
    "    print('letter_positions: ', letter_positions)\n",
    "    # For words, in descending order by length...\n",
    "    # Bails out early on first matched word, and within word on\n",
    "    # impossible letter/position combinations, but worst case is\n",
    "    # O(#words # avg-len) * O(#letters / 26) time; constant space.\n",
    "    for word in sorted(words, key=lambda w: len(w), reverse=True):\n",
    "        print(word)\n",
    "        pos = 0\n",
    "        for letter in word:\n",
    "            print(letter)\n",
    "            if letter not in letter_positions:\n",
    "                print(word, '-brk')\n",
    "                break\n",
    "            # Find any remaining valid positions in search string where this\n",
    "            # letter appears.  It would be better to do this with binary search,\n",
    "            # but this is very Python-ic.\n",
    "            possible_positions = [p for p in letter_positions[letter] if p >= pos]\n",
    "            print('possible_positions: ', possible_positions)\n",
    "            if not possible_positions:\n",
    "                break\n",
    "            pos = possible_positions[0] + 1\n",
    "            if letter == word[-1]:\n",
    "                print(word)\n",
    "                return word\n",
    "\n",
    "\n",
    "S = \"abppplee\"\n",
    "D = [\"able\", \"ale\", \"apple\", \"bale\", \"kangaroo\"]\n",
    "\n",
    "\n",
    "print('subdict: ', find_longest_word_in_string(S, D))"
   ]
  },
  {
   "cell_type": "code",
   "execution_count": 2,
   "metadata": {},
   "outputs": [],
   "source": []
  },
  {
   "cell_type": "code",
   "execution_count": null,
   "metadata": {},
   "outputs": [],
   "source": []
  }
 ],
 "metadata": {
  "kernelspec": {
   "display_name": "Python 3",
   "language": "python",
   "name": "python3"
  },
  "language_info": {
   "codemirror_mode": {
    "name": "ipython",
    "version": 3
   },
   "file_extension": ".py",
   "mimetype": "text/x-python",
   "name": "python",
   "nbconvert_exporter": "python",
   "pygments_lexer": "ipython3",
   "version": "3.6.5"
  }
 },
 "nbformat": 4,
 "nbformat_minor": 2
}
